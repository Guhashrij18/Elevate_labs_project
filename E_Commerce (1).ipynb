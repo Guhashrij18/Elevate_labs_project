{
  "nbformat": 4,
  "nbformat_minor": 0,
  "metadata": {
    "colab": {
      "provenance": []
    },
    "kernelspec": {
      "name": "python3",
      "display_name": "Python 3"
    },
    "language_info": {
      "name": "python"
    }
  },
  "cells": [
    {
      "cell_type": "code",
      "source": [
        "import pandas as pd\n",
        "import numpy as np\n",
        "import re\n",
        "\n",
        "df = pd.read_csv(\"/content/ecommerce_returns_synthetic_data.csv\")\n",
        "\n",
        "df.columns = df.columns.str.strip().str.lower().str.replace(\" \", \"_\")\n",
        "\n",
        "df['return_status'] = df['return_status'].astype(str).str.strip().str.lower()\n",
        "\n",
        "def classify_return_status(val):\n",
        "    if pd.isna(val):\n",
        "        return np.nan\n",
        "    s = re.sub(r'[_\\-\\s]+', ' ', val.lower()).strip()\n",
        "    if s in ['not returned', 'not_returned', 'not-returned', 'no', 'n']:\n",
        "        return 0\n",
        "    elif s in ['returned', 'yes', 'y']:\n",
        "        return 1\n",
        "    else:\n",
        "        return np.nan\n",
        "\n",
        "df['return_flag'] = df['return_status'].apply(classify_return_status)\n",
        "\n",
        "date_cols = [c for c in df.columns if \"date\" in c]\n",
        "for c in date_cols:\n",
        "    df[c] = pd.to_datetime(df[c], errors='coerce', dayfirst=True)\n",
        "\n",
        "if 'days_to_return' in df.columns:\n",
        "    df['days_to_return'] = pd.to_numeric(df['days_to_return'], errors='coerce')\n",
        "\n",
        "cols_to_clear = [c for c in ['return_date', 'return_reason', 'days_to_return'] if c in df.columns]\n",
        "df.loc[df['return_flag'] == 0, cols_to_clear] = np.nan\n",
        "\n",
        "if 'order_date' in df.columns and 'return_date' in df.columns:\n",
        "    valid = df['return_flag'] == 1\n",
        "    df.loc[valid, 'days_to_return'] = (\n",
        "        (df.loc[valid, 'return_date'] - df.loc[valid, 'order_date']).dt.days\n",
        "    )\n",
        "    df.loc[df['days_to_return'] < 0, 'days_to_return'] = np.nan\n",
        "\n",
        "categorical_cols = df.select_dtypes(include='object').columns.tolist()\n",
        "for col in categorical_cols:\n",
        "    df[col] = df[col].fillna(\"Unknown\")\n",
        "\n",
        "numeric_cols = df.select_dtypes(include=['int64', 'float64']).columns.tolist()\n",
        "for col in numeric_cols:\n",
        "    if col != 'return_flag':\n",
        "        df[col] = df[col].fillna(df[col].median())\n",
        "\n",
        "if 'product_category' in df.columns:\n",
        "    cat_rate = df.groupby('product_category')['return_flag'].mean().rename('category_return_rate')\n",
        "    df = df.merge(cat_rate, on='product_category', how='left')\n",
        "\n",
        "if 'supplier' in df.columns:\n",
        "    sup_rate = df.groupby('supplier')['return_flag'].mean().rename('supplier_return_rate')\n",
        "    df = df.merge(sup_rate, on='supplier', how='left')\n",
        "\n",
        "if 'order_date' in df.columns:\n",
        "    df['order_dayofweek'] = df['order_date'].dt.day_name()\n",
        "\n",
        "print(\"Cleaning & Preprocessing Complete!\")\n",
        "print(f\"Total Rows: {len(df)}\")\n",
        "print(df['return_flag'].value_counts(dropna=False))\n",
        "print(\"\\nCheck: Non-empty return info for NOT RETURNED products (should be 0):\")\n",
        "for c in cols_to_clear:\n",
        "    print(f\"{c}: {df.loc[df['return_flag']==0, c].notna().sum()}\")\n",
        "\n",
        "df.to_csv(\"cleaned_ecommerce_returns.csv\", index=False)\n",
        "print(\"\\nSaved cleaned dataset as 'cleaned_ecommerce_returns.csv'\")\n"
      ],
      "metadata": {
        "colab": {
          "base_uri": "https://localhost:8080/"
        },
        "id": "2-K1h6AF9o7T",
        "outputId": "fe278652-657d-44a4-d218-88ae3fc87984"
      },
      "execution_count": 1,
      "outputs": [
        {
          "output_type": "stream",
          "name": "stdout",
          "text": [
            "Cleaning & Preprocessing Complete!\n",
            "Total Rows: 10000\n",
            "return_flag\n",
            "1    5052\n",
            "0    4948\n",
            "Name: count, dtype: int64\n",
            "\n",
            "Check: Non-empty return info for NOT RETURNED products (should be 0):\n",
            "return_date: 0\n",
            "return_reason: 4948\n",
            "days_to_return: 4948\n",
            "\n",
            "Saved cleaned dataset as 'cleaned_ecommerce_returns.csv'\n"
          ]
        }
      ]
    },
    {
      "cell_type": "code",
      "source": [
        "import pandas as pd\n",
        "import matplotlib.pyplot as plt\n",
        "\n",
        "df = pd.read_csv(\"cleaned_ecommerce_returns.csv\")\n",
        "\n",
        "df['return_flag'] = pd.to_numeric(df['return_flag'], errors='coerce')\n",
        "\n",
        "if 'product_category' in df.columns:\n",
        "    category_returns = df.groupby('product_category')['return_flag'].mean().sort_values(ascending=False)\n",
        "    print(\"\\nReturn Rate by Product Category:\")\n",
        "    print(category_returns)\n",
        "\n",
        "    plt.figure(figsize=(10, 5))\n",
        "    category_returns.plot(kind='bar')\n",
        "    plt.title(\"Return Rate by Product Category\")\n",
        "    plt.ylabel(\"Return Rate (%)\")\n",
        "    plt.xlabel(\"Product Category\")\n",
        "    plt.tight_layout()\n",
        "    plt.show()\n",
        "\n",
        "if 'supplier' in df.columns:\n",
        "    supplier_returns = df.groupby('supplier')['return_flag'].mean().sort_values(ascending=False)\n",
        "    print(\"\\nReturn Rate by Supplier:\")\n",
        "    print(supplier_returns.head(10))  # top 10\n",
        "    plt.figure(figsize=(10, 5))\n",
        "    supplier_returns.head(10).plot(kind='bar', color='orange')\n",
        "    plt.title(\"Top 10 Suppliers by Return Rate\")\n",
        "    plt.ylabel(\"Return Rate (%)\")\n",
        "    plt.xlabel(\"Supplier\")\n",
        "    plt.tight_layout()\n",
        "    plt.show()\n",
        "\n",
        "for col in ['region', 'country', 'geography']:\n",
        "    if col in df.columns:\n",
        "        geo_returns = df.groupby(col)['return_flag'].mean().sort_values(ascending=False)\n",
        "        print(f\"\\nReturn Rate by {col.capitalize()}:\")\n",
        "        print(geo_returns)\n",
        "        plt.figure(figsize=(10, 5))\n",
        "        geo_returns.plot(kind='bar', color='green')\n",
        "        plt.title(f\"Return Rate by {col.capitalize()}\")\n",
        "        plt.ylabel(\"Return Rate (%)\")\n",
        "        plt.xlabel(col.capitalize())\n",
        "        plt.tight_layout()\n",
        "        plt.show()\n",
        "\n",
        "if 'marketing_channel' in df.columns:\n",
        "    channel_returns = df.groupby('marketing_channel')['return_flag'].mean().sort_values(ascending=False)\n",
        "    print(\"\\nReturn Rate by Marketing Channel:\")\n",
        "    print(channel_returns)\n",
        "    plt.figure(figsize=(10, 5))\n",
        "    channel_returns.plot(kind='bar', color='purple')\n",
        "    plt.title(\"Return Rate by Marketing Channel\")\n",
        "    plt.ylabel(\"Return Rate (%)\")\n",
        "    plt.xlabel(\"Marketing Channel\")\n",
        "    plt.tight_layout()\n",
        "    plt.show()\n",
        "\n",
        "print(\"\\nReturn rate analysis complete.\")\n"
      ],
      "metadata": {
        "colab": {
          "base_uri": "https://localhost:8080/",
          "height": 698
        },
        "id": "AfteGnLl_ffo",
        "outputId": "bf396d37-be1a-4126-902a-fc073a4e6df3"
      },
      "execution_count": 2,
      "outputs": [
        {
          "output_type": "stream",
          "name": "stdout",
          "text": [
            "\n",
            "Return Rate by Product Category:\n",
            "product_category\n",
            "Clothing       0.524500\n",
            "Electronics    0.509320\n",
            "Books          0.506614\n",
            "Toys           0.495370\n",
            "Home           0.490148\n",
            "Name: return_flag, dtype: float64\n"
          ]
        },
        {
          "output_type": "display_data",
          "data": {
            "text/plain": [
              "<Figure size 1000x500 with 1 Axes>"
            ],
            "image/png": "[encoded data removed]"
          },
          "metadata": {}
        },
        {
          "output_type": "stream",
          "name": "stdout",
          "text": [
            "\n",
            "Return rate analysis complete.\n"
          ]
        }
      ]
    },
    {
      "cell_type": "code",
      "source": [
        "import pandas as pd\n",
        "import numpy as np\n",
        "from sklearn.model_selection import train_test_split\n",
        "from sklearn.preprocessing import StandardScaler, OneHotEncoder\n",
        "from sklearn.compose import ColumnTransformer\n",
        "from sklearn.pipeline import Pipeline\n",
        "from sklearn.linear_model import LogisticRegression\n",
        "from sklearn.metrics import classification_report, roc_auc_score\n",
        "\n",
        "df = pd.read_csv(\"cleaned_ecommerce_returns.csv\")\n",
        "\n",
        "target = 'return_flag'\n",
        "df[target] = pd.to_numeric(df[target], errors='coerce')\n",
        "\n",
        "potential_features = [\n",
        "    'product_category', 'supplier', 'price', 'quantity',\n",
        "    'days_to_return', 'category_return_rate', 'supplier_return_rate',\n",
        "    'order_dayofweek', 'marketing_channel', 'region'\n",
        "]\n",
        "\n",
        "features = [col for col in potential_features if col in df.columns]\n",
        "\n",
        "model_df = df.dropna(subset=[target])\n",
        "\n",
        "X = model_df[features]\n",
        "y = model_df[target]\n",
        "\n",
        "num_cols = X.select_dtypes(include=['int64', 'float64']).columns.tolist()\n",
        "cat_cols = X.select_dtypes(include=['object']).columns.tolist()\n",
        "\n",
        "numeric_transformer = Pipeline(steps=[\n",
        "    ('scaler', StandardScaler())\n",
        "])\n",
        "\n",
        "categorical_transformer = Pipeline(steps=[\n",
        "    ('onehot', OneHotEncoder(handle_unknown='ignore'))\n",
        "])\n",
        "\n",
        "preprocessor = ColumnTransformer(\n",
        "    transformers=[\n",
        "        ('num', numeric_transformer, num_cols),\n",
        "        ('cat', categorical_transformer, cat_cols)\n",
        "    ])\n",
        "\n",
        "\n",
        "model = Pipeline(steps=[\n",
        "    ('preprocessor', preprocessor),\n",
        "    ('classifier', LogisticRegression(max_iter=1000))\n",
        "])\n",
        "\n",
        "\n",
        "X_train, X_test, y_train, y_test = train_test_split(\n",
        "    X, y, test_size=0.2, random_state=42, stratify=y\n",
        ")\n",
        "\n",
        "model.fit(X_train, y_train)\n",
        "\n",
        "\n",
        "y_pred = model.predict(X_test)\n",
        "y_prob = model.predict_proba(X_test)[:, 1]\n",
        "\n",
        "print(\"\\nLogistic Regression Model Evaluation:\")\n",
        "print(classification_report(y_test, y_pred))\n",
        "print(\"ROC-AUC Score:\", roc_auc_score(y_test, y_prob))\n",
        "\n",
        "df['return_risk_score'] = model.predict_proba(df[features])[:, 1]\n",
        "\n",
        "high_risk = df[df['return_risk_score'] > 0.6]\n",
        "high_risk.to_csv(\"high_risk_products.csv\", index=False)\n",
        "\n",
        "print(\"\\nHigh-risk products exported as 'high_risk_products.csv'\")\n"
      ],
      "metadata": {
        "colab": {
          "base_uri": "https://localhost:8080/"
        },
        "id": "wbI8O8hs_oBw",
        "outputId": "d2bbe91f-9e84-4c26-9aaf-1c98c8f0391a"
      },
      "execution_count": 3,
      "outputs": [
        {
          "output_type": "stream",
          "name": "stdout",
          "text": [
            "\n",
            "Logistic Regression Model Evaluation:\n",
            "              precision    recall  f1-score   support\n",
            "\n",
            "           0       0.49      0.46      0.47       990\n",
            "           1       0.50      0.53      0.51      1010\n",
            "\n",
            "    accuracy                           0.49      2000\n",
            "   macro avg       0.49      0.49      0.49      2000\n",
            "weighted avg       0.49      0.49      0.49      2000\n",
            "\n",
            "ROC-AUC Score: 0.5015626562656266\n",
            "\n",
            "High-risk products exported as 'high_risk_products.csv'\n"
          ]
        }
      ]
    },
    {
      "cell_type": "code",
      "source": [],
      "metadata": {
        "id": "I489i7dL_8Bi"
      },
      "execution_count": 3,
      "outputs": []
    }
  ]
}